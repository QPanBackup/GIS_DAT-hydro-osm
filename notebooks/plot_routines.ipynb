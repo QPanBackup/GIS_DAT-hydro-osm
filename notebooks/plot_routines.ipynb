{
 "cells": [
  {
   "cell_type": "markdown",
   "metadata": {},
   "source": [
    "# osm-hydro: plot routines #\n"
   ]
  },
  {
   "cell_type": "markdown",
   "metadata": {},
   "source": [
    "This notebook provides a number of examples how to plot the outputs of the data quality assessments on OpenStreetMap in osm-hydro. We also provide some functionality to plot spatial data (saved in GeoJSON files) interactively. This helps to inspect the data in detail in a graphical map environment. "
   ]
  },
  {
   "cell_type": "code",
   "execution_count": null,
   "metadata": {
    "collapsed": true
   },
   "outputs": [],
   "source": [
    "%matplotlib inline\n",
    "import matplotlib.pyplot as plt\n",
    "import os\n",
    "import pandas as pd\n",
    "import numpy as np"
   ]
  },
  {
   "cell_type": "markdown",
   "metadata": {},
   "source": [
    "### Plotting funtions ###\n",
    "Below, we define all the functions to plot data. Please run these first! The plot routines all use example data from the \"sample_data\" folder in the github repository."
   ]
  },
  {
   "cell_type": "code",
   "execution_count": null,
   "metadata": {
    "collapsed": false
   },
   "outputs": [],
   "source": [
    "def plot_dm_dq(ax, df, title, set_xlabels=True, colors=['g', 'y', 'orange', 'r']):\n",
    "    \"\"\"\n",
    "    Plots a staked bar plot from a pandas dataframe.\n",
    "    Inputs:\n",
    "        ax: matplotlib axis to plot on\n",
    "        df: pandas dataframe (indexes are used as legend)\n",
    "        title: axis title\n",
    "        set_xlabels=True: whether to plot x-axis labels\n",
    "        colors=['g', 'y', 'orange', 'r']: list of colors\n",
    "    \n",
    "    Returns:\n",
    "        artists: list of handles to bar objects, which can be used for a legend\n",
    "        \n",
    "    \"\"\"\n",
    "    width = 0.35\n",
    "    names = df.keys()\n",
    "    index = np.arange(len(names))\n",
    "    bottom = np.zeros(len(index))\n",
    "    artists = []\n",
    "    for n, col in zip(df.iterrows(), colors):\n",
    "        count = np.array(n[1:][0], dtype='int')  # get the numbers of features in an array\n",
    "        artist = ax.bar(index, count, width, bottom=bottom, color=col, linewidth=0)\n",
    "        artists.append(artist[0])\n",
    "        bottom += np.atleast_1d(count)\n",
    "\n",
    "    ax.set_xticks(np.atleast_1d(index) + width/2.)\n",
    "    if set_xlabels:\n",
    "        ax.set_xticklabels(tuple(names), rotation='vertical')\n",
    "    else:\n",
    "        ax.set_xticklabels('')\n",
    "    ax.set(ylabel='', title=title)\n",
    "    return artists\n",
    "\n",
    "def dq_data_model_bar_plot(xls_fn):\n",
    "    \"\"\"\n",
    "    Reads in an excel file with data model quality results\n",
    "    A graph for each sheet is prepared. Each sheet contains results for a geographical area\n",
    "    \"\"\"\n",
    "    def fn_template(fn, suffix='_{:s}', extension='.png'):\n",
    "        \"\"\"\n",
    "        Strips a file name from its extension and provides a template for making a set of files\n",
    "        \"\"\"\n",
    "        return str(os.path.splitext(fn) + suffix + extension).format\n",
    "        \n",
    "    xls = pd.ExcelFile(xls_fn)\n",
    "    nplots = len(xls.sheet_names)\n",
    "    nrows = int(np.round(np.sqrt(nplots)))\n",
    "    ncols = int(np.ceil(float(nplots)/nrows))\n",
    "    fig = plt.figure(figsize=(16,8))\n",
    "    \n",
    "    plt.subplots_adjust(bottom=0.2, hspace=0.25)\n",
    "    for n, name in enumerate(xls.sheet_names):  # [0:1]\n",
    "        df = xls.parse(name).set_index('validation')\n",
    "        ax = plt.subplot(nrows, ncols, n + 1)\n",
    "        if n >= nplots-ncols:\n",
    "            set_xlabels=True\n",
    "        else:\n",
    "            set_xlabels=False\n",
    "        artists = plot_dm_dq(ax, df, name, set_xlabels)\n",
    "    fig.legend(artists, df.index, loc='upper center', bbox_to_anchor=(0.4, 0.05),\n",
    "              fancybox=True, shadow=True, ncol=4)\n",
    "            \n",
    "    return fig    \n",
    "        "
   ]
  },
  {
   "cell_type": "markdown",
   "metadata": {},
   "source": [
    "## plot the data model check ##\n",
    "Below we demonstrate how to plot the results of the check on the data model quality. The results are reported in excel files that contains one sheet per geographic area checked. In our example, we have checked for all wards of Ramani Huria in Dar Es Salaam. Hence we make a subplot for the tag completeness of ewach individual ward. We use the functions defined above to prepare these plots from the excel file. Basically, we only need to provide an excel file, and we receive a figure with all the results back."
   ]
  },
  {
   "cell_type": "code",
   "execution_count": null,
   "metadata": {
    "collapsed": false
   },
   "outputs": [],
   "source": [
    "report_folder = os.path.abspath(os.path.join('..', 'sample_data', 'report_files'))\n",
    "xls_fn = os.path.join(report_folder, 'data_model_channels_report.xlsx')\n",
    "\n",
    "# function below does the actual plotting\n",
    "fig = dq_data_model_bar_plot(xls_fn)\n",
    "\n",
    "# save figures as nice looking PDF and PNG files                                \n",
    "fig.savefig(os.path.join(os.path.split(xls_fn)[0], 'data_model_channels.pdf'))\n",
    "fig.savefig(os.path.join(os.path.split(xls_fn)[0], 'data_model_channels.png'), bbox_inches='tight', dpi=300)\n"
   ]
  },
  {
   "cell_type": "markdown",
   "metadata": {},
   "source": [
    "## plot crossings ##\n",
    "We have a check for completeness of waterway and highway crossings. This check provides per geographical area how many features contains crossing information (versus how many don't) and counts for the amount of crossings of a given type. Both the validity of crossing information and the types are plotted below. We do this by reading the excel file and make a stacked bar plot for correctly mapped versus missing crossing information, and a stacked bar plot for the different types of crossings."
   ]
  },
  {
   "cell_type": "code",
   "execution_count": null,
   "metadata": {
    "collapsed": false
   },
   "outputs": [],
   "source": [
    "# read the report file\n",
    "xls_fn = os.path.join(report_folder, 'crossings_report.xlsx')\n",
    "df = pd.read_excel(xls_fn).set_index('validation')\n",
    "df"
   ]
  },
  {
   "cell_type": "code",
   "execution_count": null,
   "metadata": {
    "collapsed": false
   },
   "outputs": [],
   "source": [
    "# now we make a plot.\n",
    "fig = plt.figure(figsize=(10,4))\n",
    "fig.subplots_adjust(bottom=0.4)\n",
    "ax = fig.add_subplot(121)\n",
    "artists_corr = plot_dm_dq(ax, df[0:2], 'Correct', colors=['g', 'r'])\n",
    "ax = fig.add_subplot(122)\n",
    "artists_type = plot_dm_dq(ax, df[2:], 'Type', colors=['b', 'orange'])\n",
    "artists = artists_corr + artists_type\n",
    "fig.legend(artists, df.index, loc='upper center', bbox_to_anchor=(0.42, 0.1),\n",
    "           fancybox=True, ncol=4, fontsize=8.)\n",
    "\n",
    "fig.savefig(os.path.join(os.path.split(xls_fn)[0], 'crossings.pdf'))\n",
    "fig.savefig(os.path.join(os.path.split(xls_fn)[0], 'crossings.png'), bbox_inches='tight', dpi=300)\n"
   ]
  }
 ],
 "metadata": {
  "anaconda-cloud": {},
  "kernelspec": {
   "display_name": "Python [conda root]",
   "language": "python",
   "name": "conda-root-py"
  },
  "language_info": {
   "codemirror_mode": {
    "name": "ipython",
    "version": 2
   },
   "file_extension": ".py",
   "mimetype": "text/x-python",
   "name": "python",
   "nbconvert_exporter": "python",
   "pygments_lexer": "ipython2",
   "version": "2.7.12"
  }
 },
 "nbformat": 4,
 "nbformat_minor": 1
}
